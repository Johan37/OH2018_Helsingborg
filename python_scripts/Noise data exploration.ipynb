{
 "cells": [
  {
   "cell_type": "code",
   "execution_count": 1,
   "metadata": {
    "collapsed": true
   },
   "outputs": [],
   "source": [
    "import pandas as pd\n",
    "import matplotlib.pyplot as plt"
   ]
  },
  {
   "cell_type": "code",
   "execution_count": 2,
   "metadata": {
    "collapsed": true
   },
   "outputs": [],
   "source": [
    "df = pd.read_csv(\"../data/large/statliga-vagar-2m-leq-i-staden0.csv\", sep=\";\")"
   ]
  },
  {
   "cell_type": "code",
   "execution_count": 3,
   "metadata": {},
   "outputs": [
    {
     "data": {
      "image/png": "[encoded data removed]",
      "text/plain": [
       "<matplotlib.figure.Figure at 0x7f310861de80>"
      ]
     },
     "metadata": {},
     "output_type": "display_data"
    }
   ],
   "source": [
    "df[\"ISOVALUE\"].plot(kind=\"hist\", bins=20)\n",
    "plt.show()"
   ]
  },
  {
   "cell_type": "code",
   "execution_count": 4,
   "metadata": {},
   "outputs": [
    {
     "data": {
      "text/plain": [
       "Index(['Geo Point', 'Geo Shape', 'ISOVALUE', 'Shape_Leng', 'Shape_Area'], dtype='object')"
      ]
     },
     "execution_count": 4,
     "metadata": {},
     "output_type": "execute_result"
    }
   ],
   "source": [
    "df.columns"
   ]
  },
  {
   "cell_type": "code",
   "execution_count": 5,
   "metadata": {},
   "outputs": [
    {
     "data": {
      "text/plain": [
       "Geo Point                          56.0282453283, 12.7032431705\n",
       "Geo Shape     {\"type\": \"Polygon\", \"coordinates\": [[[12.70322...\n",
       "ISOVALUE                                                     35\n",
       "Shape_Leng                                               8.7639\n",
       "Shape_Area                                              5.61443\n",
       "Name: 1, dtype: object"
      ]
     },
     "execution_count": 5,
     "metadata": {},
     "output_type": "execute_result"
    }
   ],
   "source": [
    "df.iloc[1,]"
   ]
  },
  {
   "cell_type": "code",
   "execution_count": 6,
   "metadata": {},
   "outputs": [
    {
     "data": {
      "text/plain": [
       "'{\"type\": \"Polygon\", \"coordinates\": [[[12.703224078938154, 56.02824784794463], [12.703231214856409, 56.02825720169836], [12.7032428641653, 56.0282596346108], [12.703257083628683, 56.02825596493249], [12.703261969482371, 56.02824809264671], [12.703260572336983, 56.028242333581396], [12.703256446225005, 56.02823637007434], [12.703250455079726, 56.02823178937052], [12.703243475901184, 56.028229933600706], [12.703236623305015, 56.02823158867086], [12.703230365106727, 56.02823600224681], [12.703225867168419, 56.028241861557774], [12.703224078938154, 56.02824784794463]]]}'"
      ]
     },
     "execution_count": 6,
     "metadata": {},
     "output_type": "execute_result"
    }
   ],
   "source": [
    "ashape = df.iloc[1,][\"Geo Shape\"]\n",
    "ashape\n"
   ]
  },
  {
   "cell_type": "markdown",
   "metadata": {},
   "source": [
    "# Point explorations"
   ]
  },
  {
   "cell_type": "code",
   "execution_count": 7,
   "metadata": {
    "collapsed": true
   },
   "outputs": [],
   "source": [
    "from matplotlib.path import Path\n",
    "import numpy as np"
   ]
  },
  {
   "cell_type": "code",
   "execution_count": 8,
   "metadata": {
    "collapsed": true
   },
   "outputs": [],
   "source": [
    "verts = [(0,0), (1,3), (4,6), (5,1)]\n",
    "\n",
    "mesh_size = 20\n",
    "\n",
    "x, y = np.meshgrid(np.arange(mesh_size), np.arange(mesh_size))\n",
    "x = x.flatten()\n",
    "y = y.flatten()\n",
    "points = np.vstack((x,y)).T\n",
    "\n",
    "p = Path(verts)\n",
    "grid = p.contains_points(points)\n",
    "mask = grid.reshape(mesh_size, mesh_size)"
   ]
  },
  {
   "cell_type": "code",
   "execution_count": 9,
   "metadata": {
    "collapsed": true
   },
   "outputs": [],
   "source": [
    "def tuplify_matrix(m, reduce=False):\n",
    "    height = len(m)\n",
    "    width = len(m[0])\n",
    "    tups = list()\n",
    "    \n",
    "    for x in range(width):\n",
    "        for y in range(height):\n",
    "            \n",
    "            val = m[x,y]\n",
    "            if reduce and not val:\n",
    "                continue\n",
    "            \n",
    "            tup = (x,y)\n",
    "            tups.append(tup)\n",
    "    return(tups)"
   ]
  },
  {
   "cell_type": "code",
   "execution_count": 10,
   "metadata": {},
   "outputs": [
    {
     "data": {
      "text/plain": [
       "20"
      ]
     },
     "execution_count": 10,
     "metadata": {},
     "output_type": "execute_result"
    }
   ],
   "source": [
    "len(mask[0])"
   ]
  },
  {
   "cell_type": "code",
   "execution_count": 11,
   "metadata": {},
   "outputs": [
    {
     "data": {
      "image/png": "[encoded data removed]",
      "text/plain": [
       "<matplotlib.figure.Figure at 0x7f30d9e32470>"
      ]
     },
     "metadata": {},
     "output_type": "display_data"
    }
   ],
   "source": [
    "plt.plot(x, y, '.')\n",
    "plt.show()"
   ]
  },
  {
   "cell_type": "code",
   "execution_count": 12,
   "metadata": {
    "collapsed": true
   },
   "outputs": [],
   "source": [
    "tup_mask = tuplify_matrix(mask, reduce=True)"
   ]
  },
  {
   "cell_type": "code",
   "execution_count": 13,
   "metadata": {},
   "outputs": [
    {
     "data": {
      "text/plain": [
       "[(1, 1),\n",
       " (1, 2),\n",
       " (1, 3),\n",
       " (1, 4),\n",
       " (2, 1),\n",
       " (2, 2),\n",
       " (2, 3),\n",
       " (2, 4),\n",
       " (3, 2),\n",
       " (3, 3),\n",
       " (3, 4),\n",
       " (4, 3),\n",
       " (4, 4),\n",
       " (5, 4),\n",
       " (6, 4)]"
      ]
     },
     "execution_count": 13,
     "metadata": {},
     "output_type": "execute_result"
    }
   ],
   "source": [
    "[p for p in tup_mask]"
   ]
  },
  {
   "cell_type": "code",
   "execution_count": 14,
   "metadata": {},
   "outputs": [
    {
     "data": {
      "image/png": "[encoded data removed]",
      "text/plain": [
       "<matplotlib.figure.Figure at 0x7f30d9cb38d0>"
      ]
     },
     "metadata": {},
     "output_type": "display_data"
    }
   ],
   "source": [
    "plt.plot([p[0] for p in tup_mask], [p[1] for p in tup_mask], '.')\n",
    "plt.show()"
   ]
  },
  {
   "cell_type": "markdown",
   "metadata": {},
   "source": [
    "# Working with the actual shapes"
   ]
  },
  {
   "cell_type": "code",
   "execution_count": 29,
   "metadata": {
    "collapsed": true
   },
   "outputs": [],
   "source": [
    "import json\n",
    "from shapely.geometry import Polygon, mapping"
   ]
  },
  {
   "cell_type": "code",
   "execution_count": 16,
   "metadata": {},
   "outputs": [
    {
     "data": {
      "text/plain": [
       "dict_keys(['type', 'coordinates'])"
      ]
     },
     "execution_count": 16,
     "metadata": {},
     "output_type": "execute_result"
    }
   ],
   "source": [
    "shape_dict = json.loads(ashape)\n",
    "shape_dict.keys()"
   ]
  },
  {
   "cell_type": "code",
   "execution_count": 17,
   "metadata": {},
   "outputs": [
    {
     "data": {
      "text/plain": [
       "'Polygon'"
      ]
     },
     "execution_count": 17,
     "metadata": {},
     "output_type": "execute_result"
    }
   ],
   "source": [
    "shape_dict['type']"
   ]
  },
  {
   "cell_type": "code",
   "execution_count": 53,
   "metadata": {},
   "outputs": [
    {
     "data": {
      "text/plain": [
       "[[12.703224078938154, 56.02824784794463],\n",
       " [12.703231214856409, 56.02825720169836],\n",
       " [12.7032428641653, 56.0282596346108],\n",
       " [12.703257083628683, 56.02825596493249],\n",
       " [12.703261969482371, 56.02824809264671],\n",
       " [12.703260572336983, 56.028242333581396],\n",
       " [12.703256446225005, 56.02823637007434],\n",
       " [12.703250455079726, 56.02823178937052],\n",
       " [12.703243475901184, 56.028229933600706],\n",
       " [12.703236623305015, 56.02823158867086],\n",
       " [12.703230365106727, 56.02823600224681],\n",
       " [12.703225867168419, 56.028241861557774],\n",
       " [12.703224078938154, 56.02824784794463]]"
      ]
     },
     "execution_count": 53,
     "metadata": {},
     "output_type": "execute_result"
    }
   ],
   "source": [
    "pol_coords = shape_dict['coordinates'][0]\n",
    "pol_coords"
   ]
  },
  {
   "cell_type": "code",
   "execution_count": 34,
   "metadata": {},
   "outputs": [
    {
     "data": {
      "image/svg+xml": [
       "<svg xmlns=\"http://www.w3.org/2000/svg\" xmlns:xlink=\"http://www.w3.org/1999/xlink\" width=\"100.0\" height=\"100.0\" viewBox=\"12.703222563316386 56.02822841797894 4.092178775394473e-05 3.273225362931953e-05\" preserveAspectRatio=\"xMinYMin meet\"><g transform=\"matrix(1,0,0,-1,0,112.0564895682115)\"><path fill-rule=\"evenodd\" fill=\"#66cc99\" stroke=\"#555555\" stroke-width=\"8.184357550788945e-07\" opacity=\"0.6\" d=\"M 12.703224078938154,56.02824784794463 L 12.703231214856409,56.02825720169836 L 12.7032428641653,56.0282596346108 L 12.703257083628683,56.02825596493249 L 12.703261969482371,56.02824809264671 L 12.703260572336983,56.028242333581396 L 12.703256446225005,56.02823637007434 L 12.703250455079726,56.02823178937052 L 12.703243475901184,56.028229933600706 L 12.703236623305015,56.02823158867086 L 12.703230365106727,56.02823600224681 L 12.703225867168419,56.028241861557774 L 12.703224078938154,56.02824784794463 z\" /></g></svg>"
      ],
      "text/plain": [
       "<shapely.geometry.polygon.Polygon at 0x7f30d9d09f60>"
      ]
     },
     "execution_count": 34,
     "metadata": {},
     "output_type": "execute_result"
    }
   ],
   "source": [
    "pol = Polygon(pol_coords)\n",
    "pol"
   ]
  },
  {
   "cell_type": "code",
   "execution_count": 39,
   "metadata": {},
   "outputs": [
    {
     "data": {
      "text/plain": [
       "12.703224078938154"
      ]
     },
     "execution_count": 39,
     "metadata": {},
     "output_type": "execute_result"
    }
   ],
   "source": [
    "min([pair[0] for pair in pol_coords])"
   ]
  },
  {
   "cell_type": "code",
   "execution_count": 61,
   "metadata": {},
   "outputs": [
    {
     "name": "stdout",
     "output_type": "stream",
     "text": [
      "[[False False False ..., False False False]\n",
      " [False False False ..., False False False]\n",
      " [False False False ..., False False False]\n",
      " ..., \n",
      " [False False False ..., False False False]\n",
      " [False False False ..., False False False]\n",
      " [False False False ..., False False False]]\n"
     ]
    },
    {
     "data": {
      "image/png": "[encoded data removed]",
      "text/plain": [
       "<matplotlib.figure.Figure at 0x7f30d45107b8>"
      ]
     },
     "metadata": {},
     "output_type": "display_data"
    }
   ],
   "source": [
    "def rasterize(polygon_coords, mesh_size=50):\n",
    "\n",
    "    x_min = min([pair[0] for pair in pol_coords])\n",
    "    x_max = max([pair[0] for pair in pol_coords])\n",
    "    y_min = min([pair[1] for pair in pol_coords])\n",
    "    y_max = max([pair[1] for pair in pol_coords])\n",
    "    \n",
    "    x_step = (x_max - x_min) / mesh_size\n",
    "    y_step = (y_max - y_min) / mesh_size\n",
    "    \n",
    "#     print(x_step)\n",
    "#     print(y_step)\n",
    "    \n",
    "    x, y = np.meshgrid(np.arange(x_min, x_max, x_step), np.arange(y_min, y_max, y_step))\n",
    "    x = x.flatten()\n",
    "    y = y.flatten()\n",
    "    points = np.vstack((x,y)).T\n",
    "\n",
    "    p = Path(polygon_coords)\n",
    "    grid = p.contains_points(points)\n",
    "    mask = grid.reshape(mesh_size, mesh_size)\n",
    "    return(mask)\n",
    "\n",
    "def tuplify_matrix(m, reduce=False):\n",
    "    height = len(m)\n",
    "    width = len(m[0])\n",
    "    tups = list()\n",
    "    \n",
    "    for x in range(width):\n",
    "        for y in range(height):\n",
    "            \n",
    "            val = m[x,y]\n",
    "            if reduce and not val:\n",
    "                continue\n",
    "            \n",
    "            tup = (x,y)\n",
    "#             print(tup)\n",
    "            tups.append(tup)\n",
    "    return(tups)\n",
    "\n",
    "pol_rast = rasterize(pol_coords)\n",
    "print(pol_rast)\n",
    "tup_mat = tuplify_matrix(pol_rast, reduce=True)\n",
    "plt.plot([p[0] for p in tup_mat], [p[1] for p in tup_mat], '.')\n",
    "plt.show()"
   ]
  }
 ],
 "metadata": {
  "kernelspec": {
   "display_name": "Python 3",
   "language": "python",
   "name": "python3"
  },
  "language_info": {
   "codemirror_mode": {
    "name": "ipython",
    "version": 3
   },
   "file_extension": ".py",
   "mimetype": "text/x-python",
   "name": "python",
   "nbconvert_exporter": "python",
   "pygments_lexer": "ipython3",
   "version": "3.6.1"
  }
 },
 "nbformat": 4,
 "nbformat_minor": 2
}
